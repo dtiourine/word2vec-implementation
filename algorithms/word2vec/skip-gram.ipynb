{
 "cells": [
  {
   "metadata": {},
   "cell_type": "markdown",
   "source": [
    "# Skip-gram (Implementation)\n",
    "\n",
    "In this notebook, I implement the Skip-gram algorithm, which is a word2vec algorithm for calculating word embeddings. First, we must start off with some actual words data to train the CBOW model on. For this, I will use an excerpt from \"Alice in Wonderland\" by Lewis Carroll\n",
    "\n",
    "## Motivation\n",
    "\n",
    "One-hot encoding doesn't carry much meaning - word embeddings allow us to capture relationship between words.\n",
    "\n",
    "In CBOW, we predict a target word based on context words."
   ],
   "id": "cbd988072cb80f2a"
  },
  {
   "metadata": {
    "ExecuteTime": {
     "end_time": "2024-06-01T18:18:38.299029Z",
     "start_time": "2024-06-01T18:18:38.296568Z"
    }
   },
   "cell_type": "code",
   "source": [
    "import numpy as np\n",
    "import nltk\n",
    "from nltk.tokenize import word_tokenize\n",
    "nltk.download('punkt')\n",
    "import string\n",
    "import torch\n",
    "import torch.nn as nn\n",
    "import torch.optim as optim\n",
    "from sklearn.manifold import TSNE\n",
    "import matplotlib.pyplot as plt"
   ],
   "id": "96e4de47e738e7f8",
   "outputs": [
    {
     "name": "stderr",
     "output_type": "stream",
     "text": [
      "[nltk_data] Downloading package punkt to\n",
      "[nltk_data]     /Users/danieltiourine/nltk_data...\n",
      "[nltk_data]   Package punkt is already up-to-date!\n"
     ]
    }
   ],
   "execution_count": 64
  },
  {
   "metadata": {},
   "cell_type": "markdown",
   "source": [
    "## Step 1: Prepare data\n",
    "\n",
    "CBOW works by training a model to predict the target word based off of on the context word, allowing us to use the trained parameters as word embeddings. Thus, we must first prepare the words to be inputted into the neural network, so we need to one-hot encode. This entails a few main steps:\n",
    "\n",
    "1. Prepare Corpus: We will use an excerpt from \"Alice in Wonderland\" by Lewis Carroll\n",
    "2. One-hot encode each word in the vocabulary, resulting in a dictionary mapping from each word to a sparse vector.\n",
    "2. Find the context for each word in the vocabulary, resulting in a dictionary mapping from each word to its context words.\n",
    "3. One-hot encode the word-context dictionary using the word-onehot dictionary, resulting in a one-hot encoded word-context dictionary.\n",
    "\n",
    "### Step 1.1: Prepare Corpus"
   ],
   "id": "8e1cce99d104a0ec"
  },
  {
   "metadata": {
    "ExecuteTime": {
     "end_time": "2024-06-01T18:14:06.234932Z",
     "start_time": "2024-06-01T18:14:06.231730Z"
    }
   },
   "cell_type": "code",
   "source": [
    "corpus_path = 'corpus.txt'\n",
    "with open(corpus_path, 'r', encoding='utf-8') as f:\n",
    "    corpus = f.read()\n",
    "\n",
    "print(\"Corpus:\")\n",
    "print(corpus)"
   ],
   "id": "7955dc493bdb948c",
   "outputs": [
    {
     "name": "stdout",
     "output_type": "stream",
     "text": [
      "Corpus:\n",
      "Alice was beginning to get very tired of sitting by her sister on the bank, and of having nothing to do: once or twice she had peeped into the book her sister was reading, but it had no pictures or conversations in it, 'and what is the use of a book,' thought Alice 'without pictures or conversation?'\n",
      "\n",
      "So she was considering in her own mind (as well as she could, for the hot day made her feel very sleepy and stupid), whether the pleasure of making a daisy chain would be worth the trouble of getting up and picking the daisies, when suddenly a White Rabbit with pink eyes ran close by her.\n",
      "\n",
      "There was nothing so very remarkable in that; nor did Alice think it so very much out of the way to hear the Rabbit say to itself, 'Oh dear! Oh dear! I shall be late!' (when she thought it over afterwards, it occurred to her that she ought to have wondered at this, but at the time it all seemed quite natural); but when the Rabbit actually took a watch out of its waistcoat-pocket, and looked at it, and then hurried on, Alice started to her feet, for it was the first time she had ever seen a rabbit with either a waistcoat-pocket, or a watch to take out of it, and burning with curiosity, she ran across the field after it, and fortunately was just in time to see it pop down a large rabbit-hole under the hedge.\n"
     ]
    }
   ],
   "execution_count": 50
  },
  {
   "metadata": {
    "ExecuteTime": {
     "end_time": "2024-06-01T18:14:06.240834Z",
     "start_time": "2024-06-01T18:14:06.236855Z"
    }
   },
   "cell_type": "code",
   "source": [
    "# Preprocess words (lowercase, remove punctuation, tokenization)\n",
    "\n",
    "# Sample preprocessed text\n",
    "corpus = corpus.lower()\n",
    "\n",
    "# Remove punctuation\n",
    "translator = str.maketrans('', '', string.punctuation)\n",
    "corpus = corpus.translate(translator)\n",
    "\n",
    "# Tokenize the text\n",
    "tokenized_corpus = word_tokenize(corpus)\n",
    "\n",
    "# Create vocabulary\n",
    "vocabulary = set(tokenized_corpus)\n",
    "\n",
    "print(\"Vocabulary:\", vocabulary)\n",
    "print(\"Number of unique words:\", len(vocabulary))"
   ],
   "id": "eef5c7eb2fea8140",
   "outputs": [
    {
     "name": "stdout",
     "output_type": "stream",
     "text": [
      "Vocabulary: {'fortunately', 'burning', 'rabbit', 'of', 'at', 'curiosity', 'whether', 'as', 'when', 'actually', 'could', 'hear', 'for', 'pleasure', 'see', 'on', 'to', 'shall', 'and', 'would', 'watch', 'think', 'by', 'oh', 'eyes', 'just', 'occurred', 'making', 'suddenly', 'own', 'wondered', 'twice', 'started', 'afterwards', 'itself', 'ought', 'with', 'its', 'feel', 'pictures', 'made', 'reading', 'rabbithole', 'took', 'but', 'having', 'is', 'waistcoatpocket', 'this', 'her', 'feet', 'that', 'in', 'out', 'what', 'mind', 'up', 'considering', 'remarkable', 'i', 'without', 'much', 'get', 'white', 'she', 'thought', 'hurried', 'was', 'so', 'use', 'sleepy', 'or', 'trouble', 'well', 'field', 'have', 'pop', 'there', 'book', 'either', 'under', 'worth', 'sister', 'pink', 'down', 'it', 'conversation', 'quite', 'after', 'take', 'across', 'a', 'very', 'hot', 'tired', 'over', 'ever', 'do', 'did', 'then', 'into', 'dear', 'daisies', 'all', 'natural', 'peeped', 'looked', 'no', 'ran', 'picking', 'conversations', 'beginning', 'stupid', 'nor', 'bank', 'large', 'nothing', 'getting', 'hedge', 'day', 'way', 'seen', 'say', 'alice', 'the', 'had', 'time', 'seemed', 'close', 'be', 'first', 'chain', 'late', 'sitting', 'daisy', 'once'}\n",
      "Number of unique words: 136\n"
     ]
    }
   ],
   "execution_count": 51
  },
  {
   "metadata": {},
   "cell_type": "markdown",
   "source": [
    "### Step 1.2: Retrieve Word-Context Pairs\n",
    "\n",
    "(Since in CBOW we are trying to predict the center word based on context words, we first need to define which context words correlate to each word. )\n",
    "In addition to encoding each word, we must also retrieve the contexts of each word. We do this by finding the surrounding words of the target word in different sentences, defined by some window size. Let's choose a window size of 4.\n",
    "\n",
    "The below code creates a dictionary where each key is a word and its corresponding object is the context words."
   ],
   "id": "a03dc522abe2cb88"
  },
  {
   "metadata": {
    "ExecuteTime": {
     "end_time": "2024-06-01T18:14:06.245054Z",
     "start_time": "2024-06-01T18:14:06.241659Z"
    }
   },
   "cell_type": "code",
   "source": [
    "window_size = 2\n",
    "def build_word_context_pairs(tokenized_corpus=tokenized_corpus, vocabulary=vocabulary, window_size=window_size):\n",
    "    word_context_pairs = {word: [] for word in vocabulary}\n",
    "    \n",
    "    for index, target_word in enumerate(tokenized_corpus):\n",
    "        if target_word in vocabulary:\n",
    "            start_index = max(index - window_size, 0)\n",
    "            end_index = min(index + window_size + 1, len(tokenized_corpus))\n",
    "            \n",
    "            context_words = [tokenized_corpus[i] for i in range(start_index, end_index) if i != index]\n",
    "            word_context_pairs[target_word].extend(context_words)\n",
    "            \n",
    "    return word_context_pairs\n",
    "    \n",
    "word_context_pairs = build_word_context_pairs()     \n",
    "print(\"Context pairs for 'alice':\", word_context_pairs['alice'])\n",
    "print(\"Context pairs for 'natural':\", word_context_pairs['natural'])\n",
    "print(\"Context pairs for 'conversations':\", word_context_pairs['conversations'])"
   ],
   "id": "d6d9e94d1b29ada5",
   "outputs": [
    {
     "name": "stdout",
     "output_type": "stream",
     "text": [
      "Context pairs for 'alice': ['was', 'beginning', 'book', 'thought', 'without', 'pictures', 'nor', 'did', 'think', 'it', 'hurried', 'on', 'started', 'to']\n",
      "Context pairs for 'natural': ['seemed', 'quite', 'but', 'when']\n",
      "Context pairs for 'conversations': ['pictures', 'or', 'in', 'it']\n"
     ]
    }
   ],
   "execution_count": 52
  },
  {
   "metadata": {},
   "cell_type": "markdown",
   "source": [
    "### Step 1.3: Encode Words\n",
    "Now that we have prepared our vocabulary into words to context pairs, let's encode these words so they be fed into the model. Instead of traditional one-hot-encoding, word2vec typically uses more efficient representation due to the high computational costs associated with handling large vocabularies. In this case, we will use index mapping. We do this so the data can be converted to a numerical form that can be understood by neural networks."
   ],
   "id": "e530b51da766d80"
  },
  {
   "metadata": {
    "ExecuteTime": {
     "end_time": "2024-06-01T18:14:06.248893Z",
     "start_time": "2024-06-01T18:14:06.246778Z"
    }
   },
   "cell_type": "code",
   "source": [
    "def create_index_mapping(vocabulary):\n",
    "    word_to_index = {word: i for i, word in enumerate(vocabulary)}\n",
    "    index_to_word = {i: word for word, i in word_to_index.items()}\n",
    "    return word_to_index, index_to_word\n",
    "\n",
    "word_to_index, index_to_word = create_index_mapping(vocabulary)"
   ],
   "id": "2aff32e82d972935",
   "outputs": [],
   "execution_count": 53
  },
  {
   "metadata": {},
   "cell_type": "markdown",
   "source": [
    "### Step 1.4: Set up training data\n",
    "Now that we have encoded our word-context pairs, we can use this to set up the training data."
   ],
   "id": "41d43d8bc230d568"
  },
  {
   "metadata": {
    "ExecuteTime": {
     "end_time": "2024-06-01T18:14:06.252999Z",
     "start_time": "2024-06-01T18:14:06.249624Z"
    }
   },
   "cell_type": "code",
   "source": [
    "def get_training_data(word_context_pairs, word_to_index):\n",
    "    \"\"\"\n",
    "    \n",
    "    :param word_context_pairs: list of \n",
    "    :param word_to_index: \n",
    "    :return: \n",
    "    \"\"\"\n",
    "    training_data = []\n",
    "    for word, contexts in word_context_pairs.items():\n",
    "        word_idx = word_to_index[word]\n",
    "        context_indices = [word_to_index[context] for context in contexts]\n",
    "        for context_idx in context_indices:\n",
    "            training_data.append((word_idx, context_idx))\n",
    "    return np.array(training_data, dtype='int32')\n",
    "\n",
    "training_data = get_training_data(word_context_pairs, word_to_index)\n",
    "print(training_data[0:10])"
   ],
   "id": "bcc91e74dcdf5eb8",
   "outputs": [
    {
     "name": "stdout",
     "output_type": "stream",
     "text": [
      "[[ 0 85]\n",
      " [ 0 18]\n",
      " [ 0 67]\n",
      " [ 0 25]\n",
      " [ 1 85]\n",
      " [ 1 18]\n",
      " [ 1 36]\n",
      " [ 1  5]\n",
      " [ 2 91]\n",
      " [ 2 63]]\n"
     ]
    }
   ],
   "execution_count": 54
  },
  {
   "metadata": {},
   "cell_type": "markdown",
   "source": [
    "## Step 2: Define and Train Model\n",
    "\n",
    "Now that we have encoded word-context pairs (for example (21, 3), (68, 7), (21, 10), (42, 18)), where the left integer is an encoded target word and the right integer is one of its encoded context words, we can use this data to train a model to predict relationships. We do this through a technique called **negative sampling**, involving:\n",
    "- First, a true pair is fed to the model (e.g (21, 3), where 21 is the target and 3 is a true context). \n",
    "- Second, we also sample other words from the vocabulary that act as 'negative' examples. These are words that are not in the actual context of the target word. So for example, say we sample the words represented by 10, 7, and 18, then we would have (21, 10), (21, 7), and (21, 18), where these pairs are not actual contexts.\n",
    "- Third, the model is tasked to distinguish between the real (positive) pairs and the fake (negative) pairs. It must learn to identify that (21, 3) is an actual word-context pair while the others are not. It should learn to predict high probabilities for actual context words and low probabilities for the negative samples.\n",
    "- Fourth, note that the model does this by optimizing a binary classification objective, where the model predicts whether a given pair is likely to be a true contextual relationship or not. The model adjusts its parameters to maximize the likelihood of true context words and minimize the likelihood of the negative samples. This effectively trains the model's embeddings to capture meaningful semantic relationships between words.\n",
    "\n",
    "Motivation: By using negative sampling in this way, we are able to make training more computationally efficient. Instead of guessing the correct context word among all vocabulary words, it has a smaller subset to choose from. It's sort of like giving the model a multiple choice quiz.\n"
   ],
   "id": "2c819c8f498b2bc7"
  },
  {
   "metadata": {
    "ExecuteTime": {
     "end_time": "2024-06-01T18:14:06.255927Z",
     "start_time": "2024-06-01T18:14:06.253721Z"
    }
   },
   "cell_type": "code",
   "source": [
    "class SkipGramModel(nn.Module):\n",
    "    def __init__(self, vocab_size, embedding_dim):\n",
    "        super(SkipGramModel, self).__init__()\n",
    "        self.embedding = nn.Embedding(vocab_size, embedding_dim)\n",
    "        self.output_layer = nn.Linear(embedding_dim, 1)\n",
    "        \n",
    "    def forward(self, word_indices):\n",
    "        embeds = self.embedding(word_indices)\n",
    "        out = self.output_layer(embeds)\n",
    "        probabilities = torch.sigmoid(out)\n",
    "        return probabilities"
   ],
   "id": "8ee57fa65583dd1c",
   "outputs": [],
   "execution_count": 55
  },
  {
   "metadata": {},
   "cell_type": "markdown",
   "source": [
    "Let's walk through the architecture of the model to better understand it:\n",
    "- **Embedding Layer**: The embedding layer's primary role is to learn a dense, lower-dimensional representation of words. You can think of it as a lookup table, where the index associated with each word corresponds to a row in the matrix of parameters (the embedding matrix). This row gives us the word embedding of the corresponding word. Mathematically, :"
   ],
   "id": "b09daf8284d03b80"
  },
  {
   "metadata": {
    "ExecuteTime": {
     "end_time": "2024-06-01T18:14:06.258362Z",
     "start_time": "2024-06-01T18:14:06.256428Z"
    }
   },
   "cell_type": "code",
   "source": [
    "vocab_size = len(vocabulary)\n",
    "embedding_dim = 100\n",
    "model = SkipGramModel(vocab_size, embedding_dim)"
   ],
   "id": "315d71fd1173cb72",
   "outputs": [],
   "execution_count": 56
  },
  {
   "metadata": {
    "ExecuteTime": {
     "end_time": "2024-06-01T18:14:06.260626Z",
     "start_time": "2024-06-01T18:14:06.258801Z"
    }
   },
   "cell_type": "code",
   "source": [
    "loss_function = nn.BCEWithLogitsLoss()\n",
    "optimizer = optim.SGD(model.parameters(), lr=0.01)"
   ],
   "id": "dede10be1dc79e9",
   "outputs": [],
   "execution_count": 57
  },
  {
   "metadata": {
    "ExecuteTime": {
     "end_time": "2024-06-01T18:23:54.469451Z",
     "start_time": "2024-06-01T18:23:18.904760Z"
    }
   },
   "cell_type": "code",
   "source": [
    "num_epochs = 500\n",
    "\n",
    "for epoch in range(num_epochs):\n",
    "    total_loss = 0\n",
    "    for context, target in training_data:\n",
    "        # Zero the gradients\n",
    "        model.zero_grad()\n",
    "\n",
    "        # Forward pass\n",
    "        # Ensure context is wrapped in a tensor and has the correct shape\n",
    "        log_probs = model(torch.tensor([context], dtype=torch.long))\n",
    "\n",
    "        # Compute loss\n",
    "        # Ensure target is a float tensor and reshaped to match the output dimensions\n",
    "        loss = loss_function(log_probs, torch.tensor([float(target)], dtype=torch.float).unsqueeze(1))\n",
    "\n",
    "        # Backpropagation\n",
    "        loss.backward()\n",
    "        optimizer.step()\n",
    "\n",
    "        total_loss += loss.item()\n",
    "    if epoch % 25 == 0:    \n",
    "        print(f\"Epoch {epoch}, Loss: {total_loss}\")"
   ],
   "id": "2c43c2d783ba5089",
   "outputs": [
    {
     "name": "stdout",
     "output_type": "stream",
     "text": [
      "Epoch 0, Loss: -63730.65815329552\n",
      "Epoch 25, Loss: -63730.81734025478\n",
      "Epoch 50, Loss: -63730.887006014585\n",
      "Epoch 75, Loss: -63730.92719492316\n",
      "Epoch 100, Loss: -63730.95431765914\n",
      "Epoch 125, Loss: -63730.9735519886\n",
      "Epoch 150, Loss: -63730.98859065771\n",
      "Epoch 175, Loss: -63731.00005155802\n",
      "Epoch 200, Loss: -63731.00945469737\n",
      "Epoch 225, Loss: -63731.01697540283\n",
      "Epoch 250, Loss: -63731.02376639843\n",
      "Epoch 275, Loss: -63731.029478788376\n",
      "Epoch 300, Loss: -63731.03399050236\n",
      "Epoch 325, Loss: -63731.03847512603\n",
      "Epoch 350, Loss: -63731.04235470295\n",
      "Epoch 375, Loss: -63731.045588344336\n",
      "Epoch 400, Loss: -63731.04929819703\n",
      "Epoch 425, Loss: -63731.051873236895\n",
      "Epoch 450, Loss: -63731.05429679155\n",
      "Epoch 475, Loss: -63731.05685091019\n"
     ]
    }
   ],
   "execution_count": 73
  },
  {
   "metadata": {},
   "cell_type": "markdown",
   "source": [
    "## Step 3: Get Word Embeddings\n",
    "Now that our model has finished training, we should be able to extract the word embeddings for our vocabulary by using the parameters of the model."
   ],
   "id": "e14e6dcf683f8511"
  },
  {
   "metadata": {
    "ExecuteTime": {
     "end_time": "2024-06-01T18:16:32.478937Z",
     "start_time": "2024-06-01T18:16:32.475209Z"
    }
   },
   "cell_type": "code",
   "source": [
    "# Retrieve the embeddings from the model's embedding layer\n",
    "embeddings = model.embedding.weight.data.numpy()\n",
    "print(\"Embedding shape:\", embeddings.shape)"
   ],
   "id": "a6b3a97815325628",
   "outputs": [
    {
     "name": "stdout",
     "output_type": "stream",
     "text": [
      "Embedding shape: (136, 100)\n"
     ]
    }
   ],
   "execution_count": 60
  },
  {
   "metadata": {
    "ExecuteTime": {
     "end_time": "2024-06-01T18:19:58.971264Z",
     "start_time": "2024-06-01T18:19:58.968873Z"
    }
   },
   "cell_type": "code",
   "source": [
    "alice_index = word_to_index[\"alice\"]\n",
    "alice_embedding = model.embedding.weight.data[alice_index].numpy()  # Convert tensor to numpy array for easy handling\n",
    "print(\"Embedding for 'alice':\", alice_embedding)"
   ],
   "id": "96faf9f52a2614ef",
   "outputs": [
    {
     "name": "stdout",
     "output_type": "stream",
     "text": [
      "Embedding for 'alice': [-1.0557172e+00 -2.7104780e-01 -1.3501444e+00 -3.9735541e-01\n",
      " -1.2445731e+00  3.8718826e-01 -2.2616054e-01  2.5190222e-01\n",
      " -1.4604144e+00  9.6839130e-01  4.9872300e-01  1.2886710e-02\n",
      " -8.4232932e-01  2.2475544e-01  1.2376552e+00  3.5282278e-01\n",
      "  3.2939553e-01 -6.1935771e-01  8.9220041e-01  5.8776051e-01\n",
      " -5.0994432e-01 -1.9969079e-01 -5.8027387e-01  6.5721565e-01\n",
      " -1.1485481e+00  9.9619949e-01  4.0879911e-01  8.3821517e-01\n",
      "  9.7668844e-01  1.4329723e-01  9.1755456e-01 -9.6365684e-01\n",
      " -3.9094624e-01  4.1254735e-01 -8.0253726e-01 -8.0439907e-01\n",
      " -9.5406368e-02 -5.0671160e-01 -2.7281088e-01  8.1396830e-01\n",
      "  3.0354036e-02 -3.6650875e-01  6.1870849e-01 -2.1339358e-01\n",
      "  7.3075928e-02  8.0186760e-01  6.4397687e-01 -8.9972377e-01\n",
      " -1.1866559e+00  1.0554802e-01 -1.2559911e+00  1.6914433e-01\n",
      " -9.5039654e-01 -5.2574760e-01 -9.7859961e-01 -1.9235584e+00\n",
      "  6.2239605e-01 -7.4843234e-01  5.4803807e-01 -3.1975451e-01\n",
      "  1.7139661e+00  1.0535793e+00  1.0965325e+00 -7.9724896e-01\n",
      " -1.2472866e+00 -9.0685338e-01 -7.5492018e-01  1.2003577e+00\n",
      " -6.7411906e-01  3.5425940e-01  1.0725207e-03 -5.5964130e-01\n",
      "  9.1696274e-01  2.0017767e+00 -8.0057245e-01  5.1950842e-01\n",
      "  1.6229620e+00 -3.1245589e-01  1.1358788e+00 -1.0196624e+00\n",
      "  4.0737465e-01  2.4588168e-01  6.3601172e-01 -2.5913322e+00\n",
      " -1.9882606e-02 -2.0954232e+00  1.2791044e+00  6.1367589e-01\n",
      " -1.8172625e+00  8.6207229e-01 -1.7674087e+00  8.5788155e-01\n",
      "  1.4302667e+00  1.1117561e+00 -3.8122863e-01  1.5744250e-01\n",
      " -1.0369391e+00  8.5680783e-01 -1.5700721e+00 -1.5149523e+00]\n"
     ]
    }
   ],
   "execution_count": 67
  },
  {
   "metadata": {
    "ExecuteTime": {
     "end_time": "2024-06-01T18:21:41.963939Z",
     "start_time": "2024-06-01T18:21:41.281705Z"
    }
   },
   "cell_type": "code",
   "source": [
    "# Perform t-SNE dimensionality reduction to visualize embedding space\n",
    "tsne = TSNE(n_components=2, perplexity=30, max_iter=3000)\n",
    "embeddings_2d = tsne.fit_transform(embeddings)\n",
    "\n",
    "plt.figure(figsize=(10, 10))\n",
    "plt.scatter(embeddings_2d[:, 0], embeddings_2d[:, 1], alpha=0.5)\n",
    "\n",
    "# Annotate a few interesting words\n",
    "words = ['alice', 'natural', 'conversations', 'rabbit', 'rabbithole'] \n",
    "for word in words:\n",
    "    if word in word_to_index: \n",
    "        idx = word_to_index[word]\n",
    "        plt.annotate(word, (embeddings_2d[idx, 0], embeddings_2d[idx, 1]))\n",
    "\n",
    "plt.show()"
   ],
   "id": "3a8a4ba832ef71a9",
   "outputs": [
    {
     "data": {
      "text/plain": [
       "<Figure size 1000x1000 with 1 Axes>"
      ],
      "image/png": "[encoded data removed]"
     },
     "metadata": {},
     "output_type": "display_data"
    }
   ],
   "execution_count": 71
  },
  {
   "metadata": {
    "ExecuteTime": {
     "end_time": "2024-06-01T18:22:20.910835Z",
     "start_time": "2024-06-01T18:22:20.889192Z"
    }
   },
   "cell_type": "code",
   "source": [
    "from sklearn.metrics.pairwise import cosine_similarity\n",
    "\n",
    "def find_nearest_neighbors(word, embeddings, word_to_index, index_to_word, top_n=5):\n",
    "    word_index = word_to_index[word]\n",
    "    word_embedding = embeddings[word_index].reshape(1, -1)\n",
    "    similarities = cosine_similarity(word_embedding, embeddings).flatten()\n",
    "    nearest_indices = similarities.argsort()[-top_n-1:-1][::-1]  # Skip the word itself\n",
    "    nearest_words = [(index_to_word[idx], similarities[idx]) for idx in nearest_indices]\n",
    "    return nearest_words\n",
    "\n",
    "# Example usage:\n",
    "neighbors = find_nearest_neighbors('alice', embeddings, word_to_index, index_to_word)\n",
    "print(\"Nearest Neighbors of 'alice':\", neighbors)"
   ],
   "id": "a997aecdc4f7a0e5",
   "outputs": [
    {
     "name": "stdout",
     "output_type": "stream",
     "text": [
      "Nearest Neighbors of 'alice': [('made', 0.2458941), ('pink', 0.23651879), ('tired', 0.21291341), ('peeped', 0.20657542), ('she', 0.1992316)]\n"
     ]
    }
   ],
   "execution_count": 72
  },
  {
   "metadata": {},
   "cell_type": "markdown",
   "source": [
    "## Conclusion\n",
    "\n",
    "We have successfully implemented the Skip-gram word2vec algorithm, capturing information of words in a numerical format."
   ],
   "id": "bfb254238c62a47a"
  },
  {
   "metadata": {},
   "cell_type": "code",
   "outputs": [],
   "execution_count": null,
   "source": "",
   "id": "5eae4490fcef3804"
  }
 ],
 "metadata": {
  "kernelspec": {
   "display_name": "Python 3",
   "language": "python",
   "name": "python3"
  },
  "language_info": {
   "codemirror_mode": {
    "name": "ipython",
    "version": 2
   },
   "file_extension": ".py",
   "mimetype": "text/x-python",
   "name": "python",
   "nbconvert_exporter": "python",
   "pygments_lexer": "ipython2",
   "version": "2.7.6"
  }
 },
 "nbformat": 4,
 "nbformat_minor": 5
}
