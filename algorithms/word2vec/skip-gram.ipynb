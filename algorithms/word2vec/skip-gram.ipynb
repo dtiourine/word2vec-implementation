{
 "cells": [
  {
   "metadata": {},
   "cell_type": "markdown",
   "source": [
    "# Skip-gram (Implementation)\n",
    "\n",
    "In this notebook, we implement the Skip-gram version of the word2vec algorithm to generate word embeddings using an excerpt from \"Alice in Wonderland\" by Lewis Carroll. We start by preprocessing the text, which includes tokenizing the words and removing punctuation to create a clean corpus. Following this, we develop a vocabulary index mapping to convert words into numerical forms suitable for model input. We then create and use word-context pairs to train the neural network, aiming to predict context words from target words, thereby learning meaningful word embeddings. Each major step in the process—from data preparation to model training and evaluation—is explained within the respective sections of this notebook.\n",
    "\n",
    "## Motivation\n",
    "\n",
    "One-hot encoding doesn't carry much meaning - word embeddings allow us to capture relationship between words.\n",
    "\n",
    "In CBOW, we predict a target word based on context words."
   ],
   "id": "cbd988072cb80f2a"
  },
  {
   "metadata": {
    "ExecuteTime": {
     "end_time": "2024-06-01T18:46:34.376021Z",
     "start_time": "2024-06-01T18:46:34.373852Z"
    }
   },
   "cell_type": "code",
   "source": [
    "# Standard library imports for data manipulation\n",
    "import numpy as np\n",
    "import string\n",
    "from sklearn.metrics.pairwise import cosine_similarity\n",
    "\n",
    "# NLP tools for text processing\n",
    "import nltk\n",
    "from nltk.tokenize import word_tokenize\n",
    "\n",
    "# Downloading NLTK resources without showing messages\n",
    "nltk.download('punkt', quiet=True)\n",
    "\n",
    "# PyTorch imports for neural network architecture and optimization\n",
    "import torch\n",
    "import torch.nn as nn\n",
    "import torch.optim as optim\n",
    "\n",
    "# Visualization tools\n",
    "import matplotlib.pyplot as plt\n",
    "from sklearn.manifold import TSNE"
   ],
   "id": "96e4de47e738e7f8",
   "outputs": [],
   "execution_count": 87
  },
  {
   "metadata": {},
   "cell_type": "markdown",
   "source": [
    "## Step 1: Prepare data\n",
    "\n",
    "In the initial step of this notebook, we prepare the data necessary for training the Skip-gram word2vec model. We start by selecting an excerpt from \"Alice in Wonderland\" as our corpus. The text is then processed through tokenization and cleaning, where we convert it to lowercase and remove punctuation. Subsequently, we create a vocabulary of unique words and establish an index mapping for these words, allowing us to numerically represent and manipulate the text. Finally, we generate word-context pairs, which are crucial for the Skip-gram training process, by identifying the contextual words for each target word within a defined window size."
   ],
   "id": "8e1cce99d104a0ec"
  },
  {
   "metadata": {
    "ExecuteTime": {
     "end_time": "2024-06-01T18:46:34.415447Z",
     "start_time": "2024-06-01T18:46:34.412894Z"
    }
   },
   "cell_type": "code",
   "source": [
    "corpus_path = 'corpus.txt'\n",
    "with open(corpus_path, 'r', encoding='utf-8') as f:\n",
    "    corpus = f.read()\n",
    "\n",
    "print(\"Corpus:\")\n",
    "print(corpus)"
   ],
   "id": "7955dc493bdb948c",
   "outputs": [
    {
     "name": "stdout",
     "output_type": "stream",
     "text": [
      "Corpus:\n",
      "Alice was beginning to get very tired of sitting by her sister on the bank, and of having nothing to do: once or twice she had peeped into the book her sister was reading, but it had no pictures or conversations in it, 'and what is the use of a book,' thought Alice 'without pictures or conversation?'\n",
      "\n",
      "So she was considering in her own mind (as well as she could, for the hot day made her feel very sleepy and stupid), whether the pleasure of making a daisy chain would be worth the trouble of getting up and picking the daisies, when suddenly a White Rabbit with pink eyes ran close by her.\n",
      "\n",
      "There was nothing so very remarkable in that; nor did Alice think it so very much out of the way to hear the Rabbit say to itself, 'Oh dear! Oh dear! I shall be late!' (when she thought it over afterwards, it occurred to her that she ought to have wondered at this, but at the time it all seemed quite natural); but when the Rabbit actually took a watch out of its waistcoat-pocket, and looked at it, and then hurried on, Alice started to her feet, for it was the first time she had ever seen a rabbit with either a waistcoat-pocket, or a watch to take out of it, and burning with curiosity, she ran across the field after it, and fortunately was just in time to see it pop down a large rabbit-hole under the hedge.\n"
     ]
    }
   ],
   "execution_count": 88
  },
  {
   "metadata": {},
   "cell_type": "markdown",
   "source": "First, we must preprocess the corpus. This involves lowercasing all words, removing unnecessary punctuation, and tokenizing appropriately. We will also create a vocabulary off of this corpus, which will include all unique words.",
   "id": "712891febeead00a"
  },
  {
   "metadata": {
    "ExecuteTime": {
     "end_time": "2024-06-01T18:46:34.423312Z",
     "start_time": "2024-06-01T18:46:34.421351Z"
    }
   },
   "cell_type": "code",
   "source": [
    "# Lowercase\n",
    "corpus = corpus.lower()\n",
    "\n",
    "# Remove punctuation\n",
    "translator = str.maketrans('', '', string.punctuation)\n",
    "corpus = corpus.translate(translator)\n",
    "\n",
    "# Tokenize the text\n",
    "tokenized_corpus = word_tokenize(corpus)"
   ],
   "id": "eef5c7eb2fea8140",
   "outputs": [],
   "execution_count": 89
  },
  {
   "metadata": {
    "ExecuteTime": {
     "end_time": "2024-06-01T18:46:34.425736Z",
     "start_time": "2024-06-01T18:46:34.424026Z"
    }
   },
   "cell_type": "code",
   "source": [
    "# Create vocabulary\n",
    "vocabulary = set(tokenized_corpus)\n",
    "\n",
    "print(\"Vocabulary:\", vocabulary)\n",
    "print(\"Number of unique words:\", len(vocabulary))"
   ],
   "id": "106679a2a5ecc963",
   "outputs": [
    {
     "name": "stdout",
     "output_type": "stream",
     "text": [
      "Vocabulary: {'fortunately', 'burning', 'rabbit', 'of', 'at', 'curiosity', 'whether', 'as', 'when', 'actually', 'could', 'hear', 'for', 'pleasure', 'see', 'on', 'to', 'shall', 'and', 'would', 'watch', 'think', 'by', 'oh', 'eyes', 'just', 'occurred', 'making', 'suddenly', 'own', 'wondered', 'twice', 'started', 'afterwards', 'itself', 'ought', 'with', 'its', 'feel', 'pictures', 'made', 'reading', 'rabbithole', 'took', 'but', 'having', 'is', 'waistcoatpocket', 'this', 'her', 'feet', 'that', 'in', 'out', 'what', 'mind', 'up', 'considering', 'remarkable', 'i', 'without', 'much', 'get', 'white', 'she', 'thought', 'hurried', 'was', 'so', 'use', 'sleepy', 'or', 'trouble', 'well', 'field', 'have', 'pop', 'there', 'book', 'either', 'under', 'worth', 'sister', 'pink', 'down', 'it', 'conversation', 'quite', 'after', 'take', 'across', 'a', 'very', 'hot', 'tired', 'over', 'ever', 'do', 'did', 'then', 'into', 'dear', 'daisies', 'all', 'natural', 'peeped', 'looked', 'no', 'ran', 'picking', 'conversations', 'beginning', 'stupid', 'nor', 'bank', 'large', 'nothing', 'getting', 'hedge', 'day', 'way', 'seen', 'say', 'alice', 'the', 'had', 'time', 'seemed', 'close', 'be', 'first', 'chain', 'late', 'sitting', 'daisy', 'once'}\n",
      "Number of unique words: 136\n"
     ]
    }
   ],
   "execution_count": 90
  },
  {
   "metadata": {},
   "cell_type": "markdown",
   "source": "Now that we have processed our corpus and retrieved a vocabulary, we must also retrieve the contexts of each word. We do this by finding the surrounding words of the target word in different sentences, defined by some window size. Let's choose a window size of 4.",
   "id": "a03dc522abe2cb88"
  },
  {
   "metadata": {
    "ExecuteTime": {
     "end_time": "2024-06-01T18:46:34.429215Z",
     "start_time": "2024-06-01T18:46:34.426477Z"
    }
   },
   "cell_type": "code",
   "source": [
    "window_size = 4\n",
    "def build_word_context_pairs(tokenized_corpus=tokenized_corpus, vocabulary=vocabulary, window_size=window_size):\n",
    "    word_context_pairs = {word: [] for word in vocabulary}\n",
    "    \n",
    "    for index, target_word in enumerate(tokenized_corpus):\n",
    "        if target_word in vocabulary:\n",
    "            start_index = max(index - window_size, 0)\n",
    "            end_index = min(index + window_size + 1, len(tokenized_corpus))\n",
    "            \n",
    "            context_words = [tokenized_corpus[i] for i in range(start_index, end_index) if i != index]\n",
    "            word_context_pairs[target_word].extend(context_words)\n",
    "            \n",
    "    return word_context_pairs\n",
    "    \n",
    "word_context_pairs = build_word_context_pairs()     \n",
    "print(\"Context pairs for 'alice':\", word_context_pairs['alice'])\n",
    "print(\"Context pairs for 'natural':\", word_context_pairs['natural'])\n",
    "print(\"Context pairs for 'conversations':\", word_context_pairs['conversations'])"
   ],
   "id": "d6d9e94d1b29ada5",
   "outputs": [
    {
     "name": "stdout",
     "output_type": "stream",
     "text": [
      "Context pairs for 'alice': ['was', 'beginning', 'to', 'get', 'of', 'a', 'book', 'thought', 'without', 'pictures', 'or', 'conversation', 'in', 'that', 'nor', 'did', 'think', 'it', 'so', 'very', 'and', 'then', 'hurried', 'on', 'started', 'to', 'her', 'feet']\n",
      "Context pairs for 'natural': ['it', 'all', 'seemed', 'quite', 'but', 'when', 'the', 'rabbit']\n",
      "Context pairs for 'conversations': ['had', 'no', 'pictures', 'or', 'in', 'it', 'and', 'what']\n"
     ]
    }
   ],
   "execution_count": 91
  },
  {
   "metadata": {},
   "cell_type": "markdown",
   "source": "Now that we have prepared our vocabulary into words to context pairs, let's encode these words so they be fed into the model. Instead of traditional one-hot-encoding, word2vec typically uses more efficient representation due to the high computational costs associated with handling large vocabularies. In this case, we will use index mapping. We do this so the data can be converted to a numerical form that can be understood by neural networks.",
   "id": "e530b51da766d80"
  },
  {
   "metadata": {
    "ExecuteTime": {
     "end_time": "2024-06-01T18:46:34.431505Z",
     "start_time": "2024-06-01T18:46:34.429753Z"
    }
   },
   "cell_type": "code",
   "source": [
    "def create_index_mapping(vocabulary):\n",
    "    word_to_index = {word: i for i, word in enumerate(vocabulary)}\n",
    "    index_to_word = {i: word for word, i in word_to_index.items()}\n",
    "    return word_to_index, index_to_word\n",
    "\n",
    "word_to_index, index_to_word = create_index_mapping(vocabulary)"
   ],
   "id": "2aff32e82d972935",
   "outputs": [],
   "execution_count": 92
  },
  {
   "metadata": {},
   "cell_type": "markdown",
   "source": "Finally, we can use these encoded pairs to set up the training data.",
   "id": "41d43d8bc230d568"
  },
  {
   "metadata": {
    "ExecuteTime": {
     "end_time": "2024-06-01T18:46:34.435104Z",
     "start_time": "2024-06-01T18:46:34.432477Z"
    }
   },
   "cell_type": "code",
   "source": [
    "def get_training_data(word_context_pairs, word_to_index):\n",
    "    training_data = []\n",
    "    for word, contexts in word_context_pairs.items():\n",
    "        word_idx = word_to_index[word]\n",
    "        context_indices = [word_to_index[context] for context in contexts]\n",
    "        for context_idx in context_indices:\n",
    "            training_data.append((word_idx, context_idx))\n",
    "    return np.array(training_data, dtype='int32')\n",
    "\n",
    "training_data = get_training_data(word_context_pairs, word_to_index)\n",
    "print(training_data[0:10])"
   ],
   "id": "bcc91e74dcdf5eb8",
   "outputs": [
    {
     "name": "stdout",
     "output_type": "stream",
     "text": [
      "[[  0  74]\n",
      " [  0  88]\n",
      " [  0  85]\n",
      " [  0  18]\n",
      " [  0  67]\n",
      " [  0  25]\n",
      " [  0  52]\n",
      " [  0 126]\n",
      " [  1  53]\n",
      " [  1   3]]\n"
     ]
    }
   ],
   "execution_count": 93
  },
  {
   "metadata": {},
   "cell_type": "markdown",
   "source": [
    "## Step 2: Define and Train Model\n",
    "\n",
    "Now that we have encoded word-context pairs (for example (21, 3), (68, 7), (21, 10), (42, 18)), where the left integer is an encoded target word and the right integer is one of its encoded context words, we can use this data to train a model to predict relationships. We do this through a technique called **negative sampling**, involving:\n",
    "- First, a true pair is fed to the model (e.g (21, 3), where 21 is the target and 3 is a true context). \n",
    "- Second, we also sample other words from the vocabulary that act as 'negative' examples. These are words that are not in the actual context of the target word. So for example, say we sample the words represented by 10, 7, and 18, then we would have (21, 10), (21, 7), and (21, 18), where these pairs are not actual contexts.\n",
    "- Third, the model is tasked to distinguish between the real (positive) pairs and the fake (negative) pairs. It must learn to identify that (21, 3) is an actual word-context pair while the others are not. It should learn to predict high probabilities for actual context words and low probabilities for the negative samples.\n",
    "- Fourth, note that the model does this by optimizing a binary classification objective, where the model predicts whether a given pair is likely to be a true contextual relationship or not. The model adjusts its parameters to maximize the likelihood of true context words and minimize the likelihood of the negative samples. This effectively trains the model's embeddings to capture meaningful semantic relationships between words.\n",
    "\n",
    "Motivation: By using negative sampling in this way, we are able to make training more computationally efficient. Instead of guessing the correct context word among all vocabulary words, it has a smaller subset to choose from. It's sort of like giving the model a multiple choice quiz.\n"
   ],
   "id": "2c819c8f498b2bc7"
  },
  {
   "metadata": {
    "ExecuteTime": {
     "end_time": "2024-06-01T18:46:34.437372Z",
     "start_time": "2024-06-01T18:46:34.435624Z"
    }
   },
   "cell_type": "code",
   "source": [
    "class SkipGramModel(nn.Module):\n",
    "    def __init__(self, vocab_size, embedding_dim):\n",
    "        super(SkipGramModel, self).__init__()\n",
    "        self.embedding = nn.Embedding(vocab_size, embedding_dim)\n",
    "        self.output_layer = nn.Linear(embedding_dim, 1)\n",
    "        \n",
    "    def forward(self, word_indices):\n",
    "        embeds = self.embedding(word_indices)\n",
    "        out = self.output_layer(embeds)\n",
    "        probabilities = torch.sigmoid(out)\n",
    "        return probabilities"
   ],
   "id": "8ee57fa65583dd1c",
   "outputs": [],
   "execution_count": 94
  },
  {
   "metadata": {},
   "cell_type": "markdown",
   "source": [
    "Let's walk through the architecture of the model to better understand it:\n",
    "- **Embedding Layer**: The embedding layer's primary role is to learn a dense, lower-dimensional representation of words. You can think of it as a lookup table, where the index associated with each word corresponds to a row in the matrix of parameters (the embedding matrix). This row gives us the word embedding of the corresponding word. Mathematically, :"
   ],
   "id": "b09daf8284d03b80"
  },
  {
   "metadata": {
    "ExecuteTime": {
     "end_time": "2024-06-01T18:46:34.440193Z",
     "start_time": "2024-06-01T18:46:34.437776Z"
    }
   },
   "cell_type": "code",
   "source": [
    "vocab_size = len(vocabulary)\n",
    "embedding_dim = 100\n",
    "model = SkipGramModel(vocab_size, embedding_dim)"
   ],
   "id": "315d71fd1173cb72",
   "outputs": [],
   "execution_count": 95
  },
  {
   "metadata": {
    "ExecuteTime": {
     "end_time": "2024-06-01T18:46:34.443362Z",
     "start_time": "2024-06-01T18:46:34.440739Z"
    }
   },
   "cell_type": "code",
   "source": [
    "loss_function = nn.BCEWithLogitsLoss()\n",
    "optimizer = optim.SGD(model.parameters(), lr=0.01)"
   ],
   "id": "dede10be1dc79e9",
   "outputs": [],
   "execution_count": 96
  },
  {
   "metadata": {
    "ExecuteTime": {
     "end_time": "2024-06-01T18:47:44.385709Z",
     "start_time": "2024-06-01T18:46:34.444332Z"
    }
   },
   "cell_type": "code",
   "source": [
    "num_epochs = 500\n",
    "\n",
    "for epoch in range(num_epochs):\n",
    "    total_loss = 0\n",
    "    for context, target in training_data:\n",
    "        # Zero the gradients\n",
    "        model.zero_grad()\n",
    "\n",
    "        # Forward pass\n",
    "        # Ensure context is wrapped in a tensor and has the correct shape\n",
    "        log_probs = model(torch.tensor([context], dtype=torch.long))\n",
    "\n",
    "        # Compute loss\n",
    "        # Ensure target is a float tensor and reshaped to match the output dimensions\n",
    "        loss = loss_function(log_probs, torch.tensor([float(target)], dtype=torch.float).unsqueeze(1))\n",
    "\n",
    "        # Backpropagation\n",
    "        loss.backward()\n",
    "        optimizer.step()\n",
    "\n",
    "        total_loss += loss.item()\n",
    "    if epoch % 25 == 0:    \n",
    "        print(f\"Epoch {epoch}, Loss: {total_loss}\")"
   ],
   "id": "2c43c2d783ba5089",
   "outputs": [
    {
     "name": "stdout",
     "output_type": "stream",
     "text": [
      "Epoch 0, Loss: -115793.54567736387\n",
      "Epoch 25, Loss: -126840.82556569576\n",
      "Epoch 50, Loss: -126841.22239243984\n",
      "Epoch 75, Loss: -126841.36751684546\n",
      "Epoch 100, Loss: -126841.44470137358\n",
      "Epoch 125, Loss: -126841.4921887815\n",
      "Epoch 150, Loss: -126841.52516523004\n",
      "Epoch 175, Loss: -126841.55044332147\n",
      "Epoch 200, Loss: -126841.56961923838\n",
      "Epoch 225, Loss: -126841.58351826668\n",
      "Epoch 250, Loss: -126841.59571823478\n",
      "Epoch 275, Loss: -126841.6054289937\n",
      "Epoch 300, Loss: -126841.61367946863\n",
      "Epoch 325, Loss: -126841.62157016993\n",
      "Epoch 350, Loss: -126841.6284917593\n",
      "Epoch 375, Loss: -126841.63403594494\n",
      "Epoch 400, Loss: -126841.63879066706\n",
      "Epoch 425, Loss: -126841.64327436686\n",
      "Epoch 450, Loss: -126841.6470092535\n",
      "Epoch 475, Loss: -126841.65097260475\n"
     ]
    }
   ],
   "execution_count": 97
  },
  {
   "metadata": {},
   "cell_type": "markdown",
   "source": [
    "## Step 3: Get Word Embeddings\n",
    "Now that our model has finished training, we should be able to extract the word embeddings for our vocabulary by using the parameters of the model."
   ],
   "id": "e14e6dcf683f8511"
  },
  {
   "metadata": {
    "ExecuteTime": {
     "end_time": "2024-06-01T18:47:44.388426Z",
     "start_time": "2024-06-01T18:47:44.386619Z"
    }
   },
   "cell_type": "code",
   "source": [
    "# Retrieve the embeddings from the model's embedding layer\n",
    "embeddings = model.embedding.weight.data.numpy()\n",
    "print(\"Embedding shape:\", embeddings.shape)"
   ],
   "id": "a6b3a97815325628",
   "outputs": [
    {
     "name": "stdout",
     "output_type": "stream",
     "text": [
      "Embedding shape: (136, 100)\n"
     ]
    }
   ],
   "execution_count": 98
  },
  {
   "metadata": {
    "ExecuteTime": {
     "end_time": "2024-06-01T18:47:44.390758Z",
     "start_time": "2024-06-01T18:47:44.388963Z"
    }
   },
   "cell_type": "code",
   "source": [
    "alice_index = word_to_index[\"alice\"]\n",
    "alice_embedding = model.embedding.weight.data[alice_index].numpy()  # Convert tensor to numpy array for easy handling\n",
    "print(\"Embedding for 'alice':\", alice_embedding)"
   ],
   "id": "96faf9f52a2614ef",
   "outputs": [
    {
     "name": "stdout",
     "output_type": "stream",
     "text": [
      "Embedding for 'alice': [ 1.3281476   1.6786677   0.5328159   0.2368449  -0.77496624 -0.7776644\n",
      "  1.1907684  -0.71478605  0.41524374  0.59369993 -0.3123732   1.5897223\n",
      " -3.1046684   0.8947813  -1.3367102  -0.8794013  -1.0088012   2.1058748\n",
      "  1.3851062   0.6147263  -1.1490349   1.2073033   0.11819471 -0.01759757\n",
      "  0.5751674   1.0808225   0.20658608 -1.5149641   0.93364644 -0.9782125\n",
      "  0.7166617  -1.0553639   0.3604726   0.06957695 -0.38224557 -1.426718\n",
      " -1.4147228  -0.12763359  0.8131563  -0.0526088   1.223233   -0.40587828\n",
      " -0.07032851  1.5358198   0.06985587 -0.5844128  -1.1898117  -0.6926599\n",
      "  0.796856    1.52396     0.2187719  -1.239312   -0.38235506 -2.1553593\n",
      " -0.39662203  0.1983159  -2.0871606  -0.30445015  0.5275204  -1.0904926\n",
      "  1.906297    1.0006603   0.775701   -2.0779068   0.27533913 -0.48251942\n",
      " -1.617526   -0.05871161  1.1396227   0.7121244  -0.00860345 -0.33231926\n",
      "  0.72079355  0.35260814 -0.2581768   0.06063668 -0.7024979   1.525917\n",
      "  0.38352826  0.02955903 -0.19909416  0.29584473 -0.5557626  -0.8975222\n",
      " -0.1573602   1.0417753  -0.73501366  0.22617775  0.22893678 -1.1571976\n",
      " -1.8532313   1.0168463   0.51848257  0.4726702   0.20291767 -1.8534449\n",
      "  0.34205216 -0.5698222  -0.89739627 -2.3950493 ]\n"
     ]
    }
   ],
   "execution_count": 99
  },
  {
   "metadata": {
    "ExecuteTime": {
     "end_time": "2024-06-01T18:47:44.809681Z",
     "start_time": "2024-06-01T18:47:44.391803Z"
    }
   },
   "cell_type": "code",
   "source": [
    "# Perform t-SNE dimensionality reduction to visualize embedding space\n",
    "tsne = TSNE(n_components=2, perplexity=30, max_iter=3000)\n",
    "embeddings_2d = tsne.fit_transform(embeddings)\n",
    "\n",
    "plt.figure(figsize=(10, 10))\n",
    "plt.scatter(embeddings_2d[:, 0], embeddings_2d[:, 1], alpha=0.5)\n",
    "\n",
    "# Annotate a few interesting words\n",
    "words = ['alice', 'natural', 'conversations', 'rabbit', 'rabbithole'] \n",
    "for word in words:\n",
    "    if word in word_to_index: \n",
    "        idx = word_to_index[word]\n",
    "        plt.annotate(word, (embeddings_2d[idx, 0], embeddings_2d[idx, 1]))\n",
    "\n",
    "plt.show()"
   ],
   "id": "3a8a4ba832ef71a9",
   "outputs": [
    {
     "data": {
      "text/plain": [
       "<Figure size 1000x1000 with 1 Axes>"
      ],
      "image/png": "[encoded data removed]"
     },
     "metadata": {},
     "output_type": "display_data"
    }
   ],
   "execution_count": 100
  },
  {
   "metadata": {
    "ExecuteTime": {
     "end_time": "2024-06-01T18:47:44.812959Z",
     "start_time": "2024-06-01T18:47:44.810687Z"
    }
   },
   "cell_type": "code",
   "source": [
    "def find_nearest_neighbors(word, embeddings, word_to_index, index_to_word, top_n=5):\n",
    "    word_index = word_to_index[word]\n",
    "    word_embedding = embeddings[word_index].reshape(1, -1)\n",
    "    similarities = cosine_similarity(word_embedding, embeddings).flatten()\n",
    "    nearest_indices = similarities.argsort()[-top_n-1:-1][::-1]  # Skip the word itself\n",
    "    nearest_words = [(index_to_word[idx], similarities[idx]) for idx in nearest_indices]\n",
    "    return nearest_words"
   ],
   "id": "a997aecdc4f7a0e5",
   "outputs": [],
   "execution_count": 101
  },
  {
   "metadata": {
    "ExecuteTime": {
     "end_time": "2024-06-01T18:47:44.830080Z",
     "start_time": "2024-06-01T18:47:44.814177Z"
    }
   },
   "cell_type": "code",
   "source": [
    "neighbors = find_nearest_neighbors('alice', embeddings, word_to_index, index_to_word)\n",
    "print(\"Nearest Neighbors of 'alice':\", neighbors) "
   ],
   "id": "d1a1636ca3329243",
   "outputs": [
    {
     "name": "stdout",
     "output_type": "stream",
     "text": [
      "Nearest Neighbors of 'alice': [('actually', 0.19799063), ('made', 0.1927574), ('ran', 0.18095517), ('hedge', 0.14952956), ('dear', 0.1489453)]\n"
     ]
    }
   ],
   "execution_count": 102
  },
  {
   "metadata": {},
   "cell_type": "markdown",
   "source": [
    "## Conclusion\n",
    "\n",
    "In this notebook, we successfully implemented the Skip-gram model of the word2vec algorithm using a small excerpt from \"Alice in Wonderland.\" By focusing on this concise dataset, we were able to build a foundational understanding of how word embeddings are generated and how they capture syntactic and semantic word relationships within a text. The embeddings generated provided us with a preliminary insight into the contextual relevance of words, demonstrating the model's ability to associate words with their usage in specific narrative contexts. This exercise has not only enhanced our intuition about neural word embeddings but also set the stage for further explorations into more sophisticated natural language processing tasks using larger and more complex datasets."
   ],
   "id": "bfb254238c62a47a"
  }
 ],
 "metadata": {
  "kernelspec": {
   "display_name": "Python 3",
   "language": "python",
   "name": "python3"
  },
  "language_info": {
   "codemirror_mode": {
    "name": "ipython",
    "version": 2
   },
   "file_extension": ".py",
   "mimetype": "text/x-python",
   "name": "python",
   "nbconvert_exporter": "python",
   "pygments_lexer": "ipython2",
   "version": "2.7.6"
  }
 },
 "nbformat": 4,
 "nbformat_minor": 5
}
