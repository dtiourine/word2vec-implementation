{
 "cells": [
  {
   "metadata": {},
   "cell_type": "markdown",
   "source": [
    "In this notebook, I implement the Continuous Bag of Words algorithm from scratch, which is a word2vec algorithm for calculating word embeddings. First, we must start off with some actual words data to train the CBOW model on. For this, I will use Text8, a text file containing the first 100 MB of cleaned text from Wikipedia. \n",
    "\n",
    "In CBOW, we predict a target word based on context words."
   ],
   "id": "cbd988072cb80f2a"
  },
  {
   "metadata": {
    "ExecuteTime": {
     "end_time": "2024-05-24T03:35:26.061279Z",
     "start_time": "2024-05-24T03:35:24.438759Z"
    }
   },
   "cell_type": "code",
   "source": [
    "import gensim.downloader as api\n",
    "\n",
    "# Load the text8 dataset\n",
    "text8_dataset = api.load('text8')\n",
    "\n",
    "# Convert it into a list of words\n",
    "text8_words = [word for words in text8_dataset for word in words]\n",
    "\n",
    "print(text8_words[:100])  # Print the first 100 words to check\n",
    "print(\"Number of words:\", len(text8_words))"
   ],
   "id": "7955dc493bdb948c",
   "outputs": [
    {
     "name": "stdout",
     "output_type": "stream",
     "text": [
      "['anarchism', 'originated', 'as', 'a', 'term', 'of', 'abuse', 'first', 'used', 'against', 'early', 'working', 'class', 'radicals', 'including', 'the', 'diggers', 'of', 'the', 'english', 'revolution', 'and', 'the', 'sans', 'culottes', 'of', 'the', 'french', 'revolution', 'whilst', 'the', 'term', 'is', 'still', 'used', 'in', 'a', 'pejorative', 'way', 'to', 'describe', 'any', 'act', 'that', 'used', 'violent', 'means', 'to', 'destroy', 'the', 'organization', 'of', 'society', 'it', 'has', 'also', 'been', 'taken', 'up', 'as', 'a', 'positive', 'label', 'by', 'self', 'defined', 'anarchists', 'the', 'word', 'anarchism', 'is', 'derived', 'from', 'the', 'greek', 'without', 'archons', 'ruler', 'chief', 'king', 'anarchism', 'as', 'a', 'political', 'philosophy', 'is', 'the', 'belief', 'that', 'rulers', 'are', 'unnecessary', 'and', 'should', 'be', 'abolished', 'although', 'there', 'are', 'differing']\n",
      "17005207\n"
     ]
    }
   ],
   "execution_count": 2
  },
  {
   "metadata": {},
   "cell_type": "markdown",
   "source": "Since in CBOW we are trying to predict the center word based on context words, we first need to define which context words correlate to each word. We do this by choosing a window size. Let's use a window size of 5. The below code creates a dictionary where each key is a word and its corresponding object is the context words.",
   "id": "a03dc522abe2cb88"
  },
  {
   "metadata": {
    "ExecuteTime": {
     "end_time": "2024-05-24T03:35:49.926701Z",
     "start_time": "2024-05-24T03:35:30.590746Z"
    }
   },
   "cell_type": "code",
   "source": [
    "words_to_context = {}\n",
    "WINDOW_SIZE = 5\n",
    "\n",
    "for index, word in enumerate(text8_words):\n",
    "    # Calculate start and end indices for context\n",
    "    start_index = max(0, index - WINDOW_SIZE)\n",
    "    end_index = min(len(text8_words), index + WINDOW_SIZE + 1)\n",
    "\n",
    "    # Get context words excluding the target word itself\n",
    "    word_context = text8_words[start_index:index] + text8_words[index + 1:end_index]\n",
    "\n",
    "    # Append context words to the list for this word in the dictionary\n",
    "    if word in words_to_context:\n",
    "        words_to_context[word].append(word_context)\n",
    "    else:\n",
    "        words_to_context[word] = [word_context]"
   ],
   "id": "40e91641e63a12eb",
   "outputs": [],
   "execution_count": 3
  },
  {
   "metadata": {
    "ExecuteTime": {
     "end_time": "2024-05-24T03:35:21.740057Z",
     "start_time": "2024-05-24T03:35:21.736649Z"
    }
   },
   "cell_type": "code",
   "source": "print('Hello world')",
   "id": "68bf9b5633a41ee4",
   "outputs": [
    {
     "name": "stdout",
     "output_type": "stream",
     "text": [
      "Hello world\n"
     ]
    }
   ],
   "execution_count": 1
  },
  {
   "metadata": {},
   "cell_type": "code",
   "outputs": [],
   "execution_count": null,
   "source": "",
   "id": "b2143b8dbf3c9885"
  }
 ],
 "metadata": {
  "kernelspec": {
   "display_name": "Python 3",
   "language": "python",
   "name": "python3"
  },
  "language_info": {
   "codemirror_mode": {
    "name": "ipython",
    "version": 2
   },
   "file_extension": ".py",
   "mimetype": "text/x-python",
   "name": "python",
   "nbconvert_exporter": "python",
   "pygments_lexer": "ipython2",
   "version": "2.7.6"
  }
 },
 "nbformat": 4,
 "nbformat_minor": 5
}
